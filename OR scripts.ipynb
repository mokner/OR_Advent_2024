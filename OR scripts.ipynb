{
 "cells": [
  {
   "cell_type": "code",
   "execution_count": 4,
   "id": "a1d93e8b-5007-4586-9393-cb5378bc0491",
   "metadata": {},
   "outputs": [],
   "source": [
    "# The first line gives you the number of tasks (and employees)\n",
    "# The rest of the lines give you the cost to assign each task to an employee, such that\n",
    "# they're grouped in sets of the number of tasks.\n",
    "\n",
    "# In this instance, you have 100 tasks and employees\n",
    "# For the assignment of task 1, the cost for assigning it to employee 1 is 52, to employee 2 is 89, to employee 3 is 40... and to employee 100 is 69\n",
    "# Similarly, for the assignment of task 2, the cost for assigning it to employee 1 is 20, to employee 2 is 17... and to employee 100 is 92\n",
    "# And so on and so forth\n",
    "\n",
    "import numpy as np\n",
    "\n",
    "# A flat 2d matrix of employees and the cost of each task that can be assigned to them\n",
    "employee_task_matrix = []\n",
    "\n",
    "#Parse instance file to create employee matrix\n",
    "f = open('instance day 3 modified.txt', 'r')\n",
    "\n",
    "# iterate over the lines in the file\n",
    "for line in f:\n",
    "    # split the line into a list of column values\n",
    "    columns = line.strip().split(' ')\n",
    "    # clean any whitespace off the items\n",
    "    columns = [col.strip() for col in columns]\n",
    "\n",
    "    for i in range(0, len(columns)):\n",
    "        employee_task_matrix.append(int(columns[i]))\n",
    "\n",
    "employee_task_matrix\n",
    "\n",
    "# Write minizinc variables to a new file\n",
    "g = open(\"day 3 variables.txt\", \"w\")\n",
    "\n",
    "g.write(f\"employee_task_matrix = array2d(1..100, 1..100, {employee_task_matrix});\\n\\n\")\n",
    "\n",
    "g.close()"
   ]
  },
  {
   "cell_type": "code",
   "execution_count": 5,
   "id": "329dd21b-8583-41fb-86fa-a3bebefc8ded",
   "metadata": {},
   "outputs": [
    {
     "data": {
      "text/plain": [
       "509632"
      ]
     },
     "execution_count": 5,
     "metadata": {},
     "output_type": "execute_result"
    }
   ],
   "source": [
    "sum(employee_task_matrix)"
   ]
  },
  {
   "cell_type": "code",
   "execution_count": 18,
   "id": "a25a821e-4388-43fe-a665-a94fc070b420",
   "metadata": {},
   "outputs": [],
   "source": [
    "import numpy as np\n",
    "\n",
    "# A flat 2d matrix\n",
    "requirements = []\n",
    "\n",
    "#Parse instance file to create requirements matrix\n",
    "f = open('instance day 4.txt', 'r')\n",
    "\n",
    "# iterate over the lines in the file\n",
    "for line in f:\n",
    "    # split the line into a list of column values\n",
    "    columns = line.strip().split('  ')\n",
    "    # clean any whitespace off the items\n",
    "    columns = [col.strip() for col in columns]\n",
    "\n",
    "    for i in range(0, len(columns)):\n",
    "        requirements.append(int(columns[i]))\n",
    "\n",
    "requirements\n",
    "\n",
    "# Write minizinc variables to a new file\n",
    "g = open(\"day 4 variables v2.txt\", \"w\")\n",
    "\n",
    "g.write(f\"requirements = array4d(1..4, 1..4, 1..4, 1..4, {requirements});\\n\\n\")\n",
    "\n",
    "g.close()"
   ]
  },
  {
   "cell_type": "code",
   "execution_count": 19,
   "id": "9c4697da-e06c-43ab-afab-7ad7db9522aa",
   "metadata": {},
   "outputs": [
    {
     "data": {
      "text/plain": [
       "int"
      ]
     },
     "execution_count": 19,
     "metadata": {},
     "output_type": "execute_result"
    }
   ],
   "source": [
    "type(requirements[2])"
   ]
  },
  {
   "cell_type": "code",
   "execution_count": 57,
   "id": "8d49c9a3-4b78-477f-b330-810081b3f245",
   "metadata": {},
   "outputs": [],
   "source": [
    "#DAY 6 SCRIPT\n",
    "\n",
    "import numpy as np\n",
    "\n",
    "# \n",
    "costs = []\n",
    "route_list = []\n",
    "route_set = set()\n",
    "\n",
    "#Parse instance file to create matrix\n",
    "f = open('instance day 6 modified.txt', 'r')\n",
    "\n",
    "# iterate over the lines in the file\n",
    "for line in f:\n",
    "    # split the line into a list of column values\n",
    "    columns = line.strip().split(' ')\n",
    "    # clean any whitespace off the items\n",
    "    columns = [col.strip() for col in columns]\n",
    "\n",
    "    for i in range(1, 2):\n",
    "\n",
    "        for i in range(0, 1):\n",
    "            costs.append(int(columns[i]))\n",
    "        \n",
    "        for i in range(1, len(columns)):\n",
    "            route_set.add(int(columns[i]))\n",
    "            \n",
    "        route_list.append(route_set)\n",
    "        route_set = set()\n",
    "\n",
    "# Write minizinc variables to a new file\n",
    "g = open(\"day 6 variables.txt\", \"w\")\n",
    "\n",
    "#\n",
    "g.write(f\"costs = {costs};\\n\\n\")\n",
    "g.write(f\"route_list = array1d(1..63009, {route_list});\\n\\n\")\n",
    "\n",
    "g.close()"
   ]
  },
  {
   "cell_type": "code",
   "execution_count": 10,
   "id": "0f060b3d-b8fd-4e98-8611-9c613b16333a",
   "metadata": {},
   "outputs": [],
   "source": [
    "#DAY 6 SCRIPT REVISED (PREVIOUS ONE ACTUALLY SEEMS TO WORK THOUGH)\n",
    "\n",
    "import numpy as np\n",
    "\n",
    "# \n",
    "costs = []\n",
    "route_list = []\n",
    "route_set = set()\n",
    "\n",
    "#Parse instance file to create matrix\n",
    "f = open('instance day 6 modified.txt', 'r')\n",
    "\n",
    "# iterate over the lines in the file\n",
    "for line in f:\n",
    "    # split the line into a list of column values\n",
    "    columns = line.strip().split(' ')\n",
    "    # clean any whitespace off the items\n",
    "    columns = [col.strip() for col in columns]\n",
    "\n",
    "    costs.append(int(columns[0]))\n",
    "        \n",
    "    for i in range(1, len(columns)):\n",
    "        route_set.add(int(columns[i]))\n",
    "            \n",
    "    route_list.append(route_set)\n",
    "    route_set = set()\n",
    "\n",
    "# Write minizinc variables to a new file\n",
    "g = open(\"day 6 variables v2.txt\", \"w\")\n",
    "\n",
    "#\n",
    "g.write(f\"costs = {costs};\\n\\n\")\n",
    "g.write(f\"route_list = [\\n\\n\")\n",
    "for i in route_list:\n",
    "    g.write(f\"{i},\\n\")\n",
    "g.write(f\"];\\n\\n\")\n",
    "\n",
    "g.close()"
   ]
  },
  {
   "cell_type": "code",
   "execution_count": 14,
   "id": "2967f87f-798a-4f0e-b2f7-b9ec92e879e7",
   "metadata": {},
   "outputs": [
    {
     "data": {
      "text/plain": [
       "10000"
      ]
     },
     "execution_count": 14,
     "metadata": {},
     "output_type": "execute_result"
    }
   ],
   "source": [
    "len(route_list[:10000])"
   ]
  },
  {
   "cell_type": "code",
   "execution_count": 3,
   "id": "701429dd-ad63-4b68-af78-46e473b096ee",
   "metadata": {},
   "outputs": [
    {
     "data": {
      "text/plain": [
       "[{7, 42, 43, 44, 318, 319, 422, 423},\n",
       " {5, 11, 42, 43, 56, 373},\n",
       " {7, 42, 43, 56, 262, 263, 372, 373}]"
      ]
     },
     "execution_count": 3,
     "metadata": {},
     "output_type": "execute_result"
    }
   ],
   "source": [
    "route_list[:3]"
   ]
  },
  {
   "cell_type": "code",
   "execution_count": 8,
   "id": "5ff63cea-24ea-4f07-a99c-a123f58c4969",
   "metadata": {},
   "outputs": [
    {
     "data": {
      "text/plain": [
       "{6, 42, 43, 56, 262, 263, 373}"
      ]
     },
     "execution_count": 8,
     "metadata": {},
     "output_type": "execute_result"
    }
   ],
   "source": [
    "route_list[3]"
   ]
  },
  {
   "cell_type": "code",
   "execution_count": 35,
   "id": "467dca6e-2fa1-4b13-880d-4ddd745a3aff",
   "metadata": {},
   "outputs": [
    {
     "data": {
      "text/plain": [
       "set()"
      ]
     },
     "execution_count": 35,
     "metadata": {},
     "output_type": "execute_result"
    }
   ],
   "source": [
    "route_max = set()\n",
    "\n",
    "for line in f:\n",
    "    # split the line into a list of column values\n",
    "    columns = line.strip().split(' ')\n",
    "    # clean any whitespace off the items\n",
    "    columns = [col.strip() for col in columns]\n",
    "\n",
    "    for i in range(1, 10000):\n",
    "        route_max.add(columns[i])\n",
    "            \n",
    "route_max\n"
   ]
  },
  {
   "cell_type": "code",
   "execution_count": 26,
   "id": "779447e6-ee8d-4a7e-b834-58a198bb757e",
   "metadata": {},
   "outputs": [
    {
     "ename": "SyntaxError",
     "evalue": "invalid syntax. Perhaps you forgot a comma? (727781081.py, line 1)",
     "output_type": "error",
     "traceback": [
      "\u001b[0;36m  Cell \u001b[0;32mIn[26], line 1\u001b[0;36m\u001b[0m\n\u001b[0;31m    max(int(columns[]))\u001b[0m\n\u001b[0m            ^\u001b[0m\n\u001b[0;31mSyntaxError\u001b[0m\u001b[0;31m:\u001b[0m invalid syntax. Perhaps you forgot a comma?\n"
     ]
    }
   ],
   "source": [
    "max(int(columns[]))"
   ]
  },
  {
   "cell_type": "code",
   "execution_count": 36,
   "id": "2bad7709-d10b-4d4a-8e9d-937921249ffd",
   "metadata": {},
   "outputs": [
    {
     "data": {
      "text/plain": [
       "set()"
      ]
     },
     "execution_count": 36,
     "metadata": {},
     "output_type": "execute_result"
    }
   ],
   "source": [
    "route_set"
   ]
  },
  {
   "cell_type": "code",
   "execution_count": 52,
   "id": "b4a8d2e2-4218-48e1-accc-e3be75bdc37e",
   "metadata": {},
   "outputs": [
    {
     "data": {
      "text/plain": [
       "503"
      ]
     },
     "execution_count": 52,
     "metadata": {},
     "output_type": "execute_result"
    }
   ],
   "source": [
    "new_max_list = []\n",
    "\n",
    "for i in range(0,10000):\n",
    "    new_max_list.append(max(route_list[i]))\n",
    "\n",
    "max(new_max_list)"
   ]
  },
  {
   "cell_type": "code",
   "execution_count": 48,
   "id": "1458ae2a-7820-4329-99fb-045817bff4ec",
   "metadata": {},
   "outputs": [
    {
     "data": {
      "text/plain": [
       "462"
      ]
     },
     "execution_count": 48,
     "metadata": {},
     "output_type": "execute_result"
    }
   ],
   "source": [
    "max(route_list[6])"
   ]
  },
  {
   "cell_type": "code",
   "execution_count": 54,
   "id": "07cc87c6-3d75-4f8b-9611-5c533b2097f9",
   "metadata": {},
   "outputs": [
    {
     "data": {
      "text/plain": [
       "7"
      ]
     },
     "execution_count": 54,
     "metadata": {},
     "output_type": "execute_result"
    }
   ],
   "source": [
    "len(columns)"
   ]
  },
  {
   "cell_type": "code",
   "execution_count": 56,
   "id": "43afa6f7-358a-4b8c-a07a-7125703aeaf3",
   "metadata": {},
   "outputs": [
    {
     "data": {
      "text/plain": [
       "[2, 2, 2, 2, 2, 2, 2, 2, 2, 2, 2, 2, 2, 2, 1]"
      ]
     },
     "execution_count": 56,
     "metadata": {},
     "output_type": "execute_result"
    }
   ],
   "source": [
    "costs[:15]"
   ]
  },
  {
   "cell_type": "code",
   "execution_count": 19,
   "id": "9c0560c5-e5b4-4e23-9907-40a83e8c5569",
   "metadata": {},
   "outputs": [],
   "source": [
    "#DAY 7 SCRIPT\n",
    "\n",
    "import numpy as np\n",
    "\n",
    "# \n",
    "costs = []\n",
    "num_of_products = []\n",
    "product_list = []\n",
    "product_subset = set()\n",
    "\n",
    "#Parse instance file to create matrix\n",
    "f = open('instance day 7 mod.txt', 'r')\n",
    "\n",
    "# iterate over the lines in the file\n",
    "for line in f:\n",
    "    # split the line into a list of column values\n",
    "    columns = line.strip().split(' ')\n",
    "    # clean any whitespace off the items\n",
    "    columns = [col.strip() for col in columns]\n",
    "\n",
    "    costs.append(int(columns[0])) #Extracts costs\n",
    "\n",
    "    num_of_products.append(int(columns[1])) #Extracts number of products\n",
    "        \n",
    "    for i in range(2, len(columns)):\n",
    "        product_subset.add(int(columns[i]))\n",
    "            \n",
    "    product_list.append(product_subset)\n",
    "    product_subset = set()\n",
    "\n",
    "# Write minizinc variables to a new file\n",
    "g = open(\"day 7 variables.txt\", \"w\")\n",
    "\n",
    "#\n",
    "g.write(f\"P = 135; % number of products\\nS = 51975; % number of subsets\\n\\n\")\n",
    "g.write(f\"costs = {costs};\\n\\n\")\n",
    "g.write(f\"num_of_products = {num_of_products};\\n\\n\")\n",
    "g.write(f\"product_list = [\\n\")\n",
    "for i in product_list[:len(product_list)-1]:\n",
    "    g.write(f\"{i},\\n\")\n",
    "g.write(f\"{product_list[len(product_list)-1]};\")\n",
    "g.write(f\"];\\n\")\n",
    "\n",
    "g.close()"
   ]
  },
  {
   "cell_type": "code",
   "execution_count": 3,
   "id": "13c92130-f1c8-4782-af23-923338dd6433",
   "metadata": {},
   "outputs": [
    {
     "data": {
      "text/plain": [
       "3"
      ]
     },
     "execution_count": 3,
     "metadata": {},
     "output_type": "execute_result"
    }
   ],
   "source": [
    "plist = [1, 2, 3, 4]\n",
    "\n",
    "len(plist)\n",
    "\n",
    "len(plist[:len(plist)-1])"
   ]
  },
  {
   "cell_type": "code",
   "execution_count": 4,
   "id": "6df1be7b-a30a-46ba-bbc5-e34c4544d61f",
   "metadata": {},
   "outputs": [
    {
     "data": {
      "text/plain": [
       "4"
      ]
     },
     "execution_count": 4,
     "metadata": {},
     "output_type": "execute_result"
    }
   ],
   "source": [
    "len(plist)"
   ]
  },
  {
   "cell_type": "code",
   "execution_count": 5,
   "id": "b0c7eab5-cc49-4e0c-bcf3-4ec0db19d445",
   "metadata": {},
   "outputs": [
    {
     "data": {
      "text/plain": [
       "range(1, 3)"
      ]
     },
     "execution_count": 5,
     "metadata": {},
     "output_type": "execute_result"
    }
   ],
   "source": [
    "range(1, len(plist)-1)"
   ]
  },
  {
   "cell_type": "code",
   "execution_count": 8,
   "id": "83dfd311-6895-47aa-96b8-b5db24f515e0",
   "metadata": {},
   "outputs": [
    {
     "name": "stdout",
     "output_type": "stream",
     "text": [
      "e\n",
      "e\n",
      "e\n"
     ]
    }
   ],
   "source": [
    "for i in range(1,4): print(\"e\")"
   ]
  },
  {
   "cell_type": "code",
   "execution_count": 11,
   "id": "f42608d1-b301-404c-8eb9-bfd2f4858f51",
   "metadata": {},
   "outputs": [
    {
     "data": {
      "text/plain": [
       "1"
      ]
     },
     "execution_count": 11,
     "metadata": {},
     "output_type": "execute_result"
    }
   ],
   "source": [
    "plist[0]"
   ]
  },
  {
   "cell_type": "code",
   "execution_count": 16,
   "id": "03cf37b4-a097-477e-9dc2-df55300e3486",
   "metadata": {},
   "outputs": [
    {
     "data": {
      "text/plain": [
       "[1, 2, 3]"
      ]
     },
     "execution_count": 16,
     "metadata": {},
     "output_type": "execute_result"
    }
   ],
   "source": [
    "plist[:3]"
   ]
  },
  {
   "cell_type": "code",
   "execution_count": 5,
   "id": "0ff314d2-f047-49f5-9861-ecd41cf962d8",
   "metadata": {},
   "outputs": [
    {
     "data": {
      "text/plain": [
       "[2, 3]"
      ]
     },
     "execution_count": 5,
     "metadata": {},
     "output_type": "execute_result"
    }
   ],
   "source": [
    "plist[1:3]"
   ]
  },
  {
   "cell_type": "code",
   "execution_count": 44,
   "id": "d1b3b0ac-aba1-44dc-9d62-268d67273df7",
   "metadata": {},
   "outputs": [],
   "source": [
    "# DAY 8 TEST SCRIPT\n",
    "\n",
    "import numpy as np\n",
    "\n",
    "#Parse instance file to create .dzn files\n",
    "f = open('day 8 test.txt', 'r')\n",
    "\n",
    "items = []\n",
    "\n",
    "for line in f:\n",
    "    items.append(int(line))\n"
   ]
  },
  {
   "cell_type": "code",
   "execution_count": 46,
   "id": "9b4cf43e-5681-447a-821e-6e42b6f8ca20",
   "metadata": {},
   "outputs": [
    {
     "data": {
      "text/plain": [
       "57"
      ]
     },
     "execution_count": 46,
     "metadata": {},
     "output_type": "execute_result"
    }
   ],
   "source": [
    "items[3]"
   ]
  },
  {
   "cell_type": "code",
   "execution_count": 49,
   "id": "0d782d55-1d5e-42bc-9402-8c1dae83358d",
   "metadata": {},
   "outputs": [],
   "source": [
    "# DAY 8 SCRIPT\n",
    "\n",
    "import numpy as np\n",
    "\n",
    "#Parse instance file to create .dzn files\n",
    "f = open('instance day 8 mod.txt', 'r')\n",
    "\n",
    "max_bin_cap = 0\n",
    "num_of_items = 0\n",
    "best_solution = 0\n",
    "item_list = []\n",
    "instance_file_name = \"\"\n",
    "\n",
    "for line in f:\n",
    "    if line.startswith(\" u\"):\n",
    "        instance_file_name = line.strip()\n",
    "    elif line.startswith(\" \"):\n",
    "        columns = line.strip().split(' ')\n",
    "        max_bin_cap, num_of_items, best_solution = columns\n",
    "        max_bin_cap, num_of_items, best_solution = int(max_bin_cap), int(num_of_items), int(best_solution)\n",
    "    else:\n",
    "        item_list.append(int(line))\n",
    "\n",
    "        if next(f).startswith(\" u\") or next(f) == '': #f.read()=None:\n",
    "            \n",
    "            # Write minizinc variables to a new file\n",
    "            g = open(f\"{instance_file_name}.txt\", \"w\")\n",
    "\n",
    "            #\n",
    "            g.write(f\"B = {max_bin_cap};\\n\\n\")\n",
    "            g.write(f\"I = {num_of_items};\\n\\n\")\n",
    "            g.write(f\"S = {best_solution};\\n\\n\")\n",
    "\n",
    "            item_list = []\n",
    "\n",
    "            g.close()\n",
    "        \n"
   ]
  },
  {
   "cell_type": "code",
   "execution_count": 48,
   "id": "bd76ffb5-460e-46cb-b7d2-eb4f0f908132",
   "metadata": {},
   "outputs": [
    {
     "data": {
      "text/plain": [
       "('u120_19', 50)"
      ]
     },
     "execution_count": 48,
     "metadata": {},
     "output_type": "execute_result"
    }
   ],
   "source": [
    "instance_file_name, best_solution"
   ]
  },
  {
   "cell_type": "code",
   "execution_count": 49,
   "id": "cd82167b-e85f-48ef-a5f6-f94a9d9635e4",
   "metadata": {},
   "outputs": [
    {
     "data": {
      "text/plain": [
       "['150', '120', '50']"
      ]
     },
     "execution_count": 49,
     "metadata": {},
     "output_type": "execute_result"
    }
   ],
   "source": [
    "columns"
   ]
  },
  {
   "cell_type": "code",
   "execution_count": 15,
   "id": "03e84aa3-3ead-47b3-8eae-5607841cec27",
   "metadata": {},
   "outputs": [
    {
     "ename": "IndexError",
     "evalue": "list index out of range",
     "output_type": "error",
     "traceback": [
      "\u001b[1;31m---------------------------------------------------------------------------\u001b[0m",
      "\u001b[1;31mIndexError\u001b[0m                                Traceback (most recent call last)",
      "Cell \u001b[1;32mIn[15], line 1\u001b[0m\n\u001b[1;32m----> 1\u001b[0m \u001b[43mitem_list\u001b[49m\u001b[43m[\u001b[49m\u001b[38;5;241;43m120\u001b[39;49m\u001b[38;5;241;43m*\u001b[39;49m\u001b[38;5;241;43m20\u001b[39;49m\u001b[38;5;241;43m-\u001b[39;49m\u001b[38;5;241;43m1\u001b[39;49m\u001b[43m]\u001b[49m\n",
      "\u001b[1;31mIndexError\u001b[0m: list index out of range"
     ]
    }
   ],
   "source": [
    "item_list[120*20-1]"
   ]
  },
  {
   "cell_type": "code",
   "execution_count": 43,
   "id": "d6fa73bf-6f55-4310-a1a1-413de568c811",
   "metadata": {},
   "outputs": [
    {
     "data": {
      "text/plain": [
       "'93\\n90\\n38'"
      ]
     },
     "execution_count": 43,
     "metadata": {},
     "output_type": "execute_result"
    }
   ],
   "source": [
    "f = open('ftest.txt', 'r')\n",
    "\n",
    "\n",
    "\n",
    "next(f).startswith(\"4\")\n",
    "next(f)\n",
    "next(f)\n",
    "next(f)\n",
    "f.read()"
   ]
  },
  {
   "cell_type": "code",
   "execution_count": 14,
   "id": "ab8d5522-20cd-4d87-bf33-5ad1e841679e",
   "metadata": {},
   "outputs": [
    {
     "data": {
      "text/plain": [
       "False"
      ]
     },
     "execution_count": 14,
     "metadata": {},
     "output_type": "execute_result"
    }
   ],
   "source": [
    "None == ''"
   ]
  },
  {
   "cell_type": "code",
   "execution_count": 23,
   "id": "2f19c048-90e7-4f04-bc37-60ce19a23cf3",
   "metadata": {},
   "outputs": [
    {
     "data": {
      "text/plain": [
       "50"
      ]
     },
     "execution_count": 23,
     "metadata": {},
     "output_type": "execute_result"
    }
   ],
   "source": [
    "best_solution"
   ]
  },
  {
   "cell_type": "code",
   "execution_count": 50,
   "id": "ebbfecef-af01-4116-b2c1-b191e02145fd",
   "metadata": {},
   "outputs": [
    {
     "data": {
      "text/plain": [
       "57"
      ]
     },
     "execution_count": 50,
     "metadata": {},
     "output_type": "execute_result"
    }
   ],
   "source": [
    "item_list[1]"
   ]
  },
  {
   "cell_type": "code",
   "execution_count": 2,
   "id": "5ad8c5d3-28bb-4b71-8fb4-545189185f30",
   "metadata": {},
   "outputs": [],
   "source": [
    "g = open(\"write_test.txt\", \"w\")\n",
    "g.write(\"writing test text: this means that it writes a file within the current folder\")\n",
    "g.close()"
   ]
  },
  {
   "cell_type": "code",
   "execution_count": 1,
   "id": "b47e6899-f23d-4296-a47e-07af0335cc6f",
   "metadata": {},
   "outputs": [
    {
     "data": {
      "text/plain": [
       "497"
      ]
     },
     "execution_count": 1,
     "metadata": {},
     "output_type": "execute_result"
    }
   ],
   "source": [
    "# DAY 8 SCRIPT V2\n",
    "\n",
    "import numpy as np\n",
    "\n",
    "#Parse instance file to create .dzn files\n",
    "f = open('instance day 8 mod.txt', 'r')\n",
    "\n",
    "max_bin_cap = 0\n",
    "num_of_items = 0\n",
    "best_solution = 0\n",
    "item_list = []\n",
    "instance_file_name = \"\"\n",
    "\n",
    "for line in f:\n",
    "    if instance_file_name == \"\":\n",
    "        instance_file_name = line.strip()\n",
    "    \n",
    "    elif line.startswith(\" u\"):\n",
    "        \n",
    "        # Write minizinc variables to a new file\n",
    "        g = open(f\"{instance_file_name}.dzn\", \"w\")\n",
    "\n",
    "        #\n",
    "        g.write(f\"B = {max_bin_cap};\\n\\n\")\n",
    "        g.write(f\"I = {num_of_items};\\n\\n\")\n",
    "        g.write(f\"S = {best_solution};\\n\\n\")\n",
    "        g.write(f\"item_list = {item_list};\\n\\n\")\n",
    "        \n",
    "        item_list = []\n",
    "\n",
    "        # Updates current file name to new one\n",
    "        instance_file_name = line.strip()\n",
    "        \n",
    "    elif line.startswith(\" \"):\n",
    "        columns = line.strip().split(' ')\n",
    "        max_bin_cap, num_of_items, best_solution = columns\n",
    "        max_bin_cap, num_of_items, best_solution = int(max_bin_cap), int(num_of_items), int(best_solution)\n",
    "\n",
    "    else:\n",
    "        item_list.append(int(line))\n",
    "\n",
    "# Write final file\n",
    "g = open(f\"{instance_file_name}.dzn\", \"w\")\n",
    "\n",
    "#\n",
    "g.write(f\"B = {max_bin_cap};\\n\\n\")\n",
    "g.write(f\"I = {num_of_items};\\n\\n\")\n",
    "g.write(f\"S = {best_solution};\\n\\n\")\n",
    "g.write(f\"item_list = {item_list};\\n\\n\")\n",
    "    "
   ]
  },
  {
   "cell_type": "code",
   "execution_count": 16,
   "id": "5c338476-35a2-4ee3-b808-6aa80acf54bf",
   "metadata": {},
   "outputs": [],
   "source": [
    "# DAY 9 SCRIPT\n",
    "\n",
    "import numpy as np\n",
    "import csv\n",
    "\n",
    "fields = []\n",
    "rows = []\n",
    "\n",
    "object_data = []\n",
    "\n",
    "m1a_objects = []\n",
    "m1b_objects = []\n",
    "m1c_objects = []\n",
    "m1d_objects = []\n",
    "m1e_objects = []\n",
    "\n",
    "with open('OR Advent 2024/Day 9/instance day 9 M1.csv', 'r') as df:\n",
    "    df_clean = csv.reader(filter(lambda line: line.replace(\",\", \"\").strip(), df))\n",
    "    \n",
    "    fields = next(df_clean)\n",
    "\n",
    "    for row in df_clean:\n",
    "        for i in row:\n",
    "            if i == '':\n",
    "                row.remove(i)\n",
    "        rows.append(row)\n",
    "\n",
    "    #for i in range(0, len(rows)-1):\n",
    "    #    for j in range(0, len(rows)-1):\n",
    "    #        if rows[i][j] != '':\n",
    "    #            clean_rows.append(rows[i][j])\n",
    "\n",
    "for i in range(3, len(rows)):\n",
    "    for j in range(1, len(rows[0])):\n",
    "        object_data.append(int(rows[i][j]))\n",
    "\n",
    "# Write file\n",
    "#g = open(\"day 9 data m1.dzn\", \"w\")\n",
    "\n",
    "#g.write(f\"B = {max_bin_cap};\\n\\n\")"
   ]
  },
  {
   "cell_type": "code",
   "execution_count": 10,
   "id": "36de201b-03c2-4766-9172-77a85245a3ab",
   "metadata": {},
   "outputs": [
    {
     "data": {
      "text/plain": [
       "4"
      ]
     },
     "execution_count": 10,
     "metadata": {},
     "output_type": "execute_result"
    }
   ],
   "source": [
    "int(rows[3][5])"
   ]
  },
  {
   "cell_type": "code",
   "execution_count": 17,
   "id": "8b2e72df-abb4-4862-bd89-924da17296f2",
   "metadata": {},
   "outputs": [
    {
     "data": {
      "text/plain": [
       "1000"
      ]
     },
     "execution_count": 17,
     "metadata": {},
     "output_type": "execute_result"
    }
   ],
   "source": [
    "len(object_data)"
   ]
  },
  {
   "cell_type": "code",
   "execution_count": null,
   "id": "c4c2bfec-676b-4c43-887f-fd7dfc150ed5",
   "metadata": {},
   "outputs": [],
   "source": [
    "object_data"
   ]
  },
  {
   "cell_type": "code",
   "execution_count": null,
   "id": "f0732ec0-a969-4e55-883d-2aff42811217",
   "metadata": {},
   "outputs": [],
   "source": [
    "rows"
   ]
  },
  {
   "cell_type": "code",
   "execution_count": 37,
   "id": "0e0c3e45-8f77-47c1-937a-4d48ed24d4ca",
   "metadata": {},
   "outputs": [
    {
     "data": {
      "text/plain": [
       "103"
      ]
     },
     "execution_count": 37,
     "metadata": {},
     "output_type": "execute_result"
    }
   ],
   "source": [
    "len(rows)"
   ]
  },
  {
   "cell_type": "code",
   "execution_count": 65,
   "id": "9223a34c-9449-4ae0-8b2e-88ec8a0fd403",
   "metadata": {},
   "outputs": [
    {
     "data": {
      "text/plain": [
       "19"
      ]
     },
     "execution_count": 65,
     "metadata": {},
     "output_type": "execute_result"
    }
   ],
   "source": [
    "# DAY 9 SCRIPT V2\n",
    "\n",
    "import pandas as pd\n",
    "df_m1 = pd.read_csv('OR Advent 2024/Day 9/instance day 9 M1.csv')\n",
    "df_obj = pd.read_csv('OR Advent 2024/Day 9/instance day 9 objects.csv')\n",
    "\n",
    "df_m1.at[0, 'Unnamed: 3']\n",
    "\n",
    "fields = []\n",
    "rows = []\n",
    "\n",
    "M1_OBJ_WIDTHS = []\n",
    "M1_OBJ_HEIGHTS = []\n",
    "M1_OBJ_NUMBERS = []\n",
    "m1_bin_size = int(df_obj.at[2, 'Unnamed: 4'])\n",
    "\n",
    "m1a_widths = []\n",
    "m1a_heights = []\n",
    "\n",
    "m1_bin_widths = []\n",
    "m1_bin_heights = []\n",
    "\n",
    "m1a_size = int(df_m1.at[1, 'Unnamed: 3'])\n",
    "m1a_item_area = int(df_m1.at[2, 'Unnamed: 3'])\n",
    "\n",
    "for i in range(5, len(df_m1)):\n",
    "    m1a_widths.append(int(df_m1.at[i, 'Unnamed: 2']))\n",
    "    m1a_heights.append(int(df_m1.at[i, 'Unnamed: 3']))\n",
    "\n",
    "for i in range(5, len(df_obj)):\n",
    "    M1_OBJ_WIDTHS.append(int(df_obj.at[i, 'objects for']))\n",
    "    M1_OBJ_HEIGHTS.append(int(df_obj.at[i, 'Unnamed: 3']))\n",
    "    M1_OBJ_NUMBERS.append(int(df_obj.at[i, 'Unnamed: 4']))\n",
    "\n",
    "for i in range(0, len(M1_OBJ_NUMBERS)):\n",
    "    \n",
    "    m1_bin_widths.extend(M1_OBJ_WIDTHS[i] for j in range(0, M1_OBJ_NUMBERS[i]))\n",
    "    m1_bin_heights.extend(M1_OBJ_HEIGHTS[i] for j in range(0, M1_OBJ_NUMBERS[i]))\n",
    "\n",
    "# Write file\n",
    "g = open(\"day 9 data m1.dzn\", \"w\")\n",
    "\n",
    "g.write(f\"bin_widths = {m1_bin_widths};\\n\\n\")\n",
    "g.write(f\"bin_heights = {m1_bin_heights};\\n\\n\")\n",
    "#g.write(f\"M1_OBJ_NUMBERS = {M1_OBJ_NUMBERS};\\n\\n\")\n",
    "g.write(f\"bin_size = {m1_bin_size};\\n\\n\")\n",
    "g.write(f\"item_widths = {m1a_widths};\\n\\n\")\n",
    "g.write(f\"item_heights = {m1a_heights};\\n\\n\")\n",
    "g.write(f\"item_size = {m1a_size};\\n\\n\")\n",
    "g.write(f\"item_area = {m1a_item_area};\\n\\n\")"
   ]
  },
  {
   "cell_type": "code",
   "execution_count": 16,
   "id": "743cabc1-b2f3-474e-b647-eb8d24e39445",
   "metadata": {},
   "outputs": [
    {
     "data": {
      "text/plain": [
       "Series([], Name: Unnamed: 1, dtype: float64)"
      ]
     },
     "execution_count": 16,
     "metadata": {},
     "output_type": "execute_result"
    }
   ],
   "source": [
    "df['Unnamed: 1'].dropna()"
   ]
  },
  {
   "cell_type": "code",
   "execution_count": 35,
   "id": "73321160-ff68-4bea-9a96-e1b8748c8722",
   "metadata": {},
   "outputs": [
    {
     "data": {
      "text/plain": [
       "100"
      ]
     },
     "execution_count": 35,
     "metadata": {},
     "output_type": "execute_result"
    }
   ],
   "source": [
    "m1a_size"
   ]
  },
  {
   "cell_type": "code",
   "execution_count": 28,
   "id": "50fb6e37-0e0a-4692-8b9c-080b67a1e55f",
   "metadata": {},
   "outputs": [
    {
     "data": {
      "text/plain": [
       "Index(['Unnamed: 0', 'Unnamed: 1', 'objects for', 'Unnamed: 3', 'Unnamed: 4',\n",
       "       'Unnamed: 5', 'objects for.1', 'Unnamed: 7', 'Unnamed: 8', 'Unnamed: 9',\n",
       "       'objects for.2', 'Unnamed: 11', 'Unnamed: 12'],\n",
       "      dtype='object')"
      ]
     },
     "execution_count": 28,
     "metadata": {},
     "output_type": "execute_result"
    }
   ],
   "source": [
    "df_obj.columns"
   ]
  },
  {
   "cell_type": "code",
   "execution_count": 43,
   "id": "6e27337e-7c51-419d-ada8-8df666f8a9d7",
   "metadata": {},
   "outputs": [
    {
     "data": {
      "text/plain": [
       "[20, 10, 10, 20, 10, 10]"
      ]
     },
     "execution_count": 43,
     "metadata": {},
     "output_type": "execute_result"
    }
   ],
   "source": [
    "M1_OBJ_WIDTHS"
   ]
  },
  {
   "cell_type": "code",
   "execution_count": 8,
   "id": "39fcba73-26a6-4931-891f-0902a06b8a88",
   "metadata": {},
   "outputs": [
    {
     "name": "stdout",
     "output_type": "stream",
     "text": [
      "10\n",
      "20\n",
      "20\n",
      "10\n",
      "20\n",
      "20\n"
     ]
    }
   ],
   "source": [
    "for obj_num in M1_OBJ_NUMBERS:\n",
    "    print(M1_OBJ_WIDTHS[obj_num])"
   ]
  },
  {
   "cell_type": "code",
   "execution_count": 10,
   "id": "121e3681-e2e6-439d-8d48-030888b076ea",
   "metadata": {},
   "outputs": [
    {
     "data": {
      "text/plain": [
       "3"
      ]
     },
     "execution_count": 10,
     "metadata": {},
     "output_type": "execute_result"
    }
   ],
   "source": [
    "M1_OBJ_NUMBERS[2]"
   ]
  },
  {
   "cell_type": "code",
   "execution_count": 15,
   "id": "939b097f-5b14-496e-a7df-5218258edac6",
   "metadata": {},
   "outputs": [
    {
     "name": "stdout",
     "output_type": "stream",
     "text": [
      "0\n",
      "1\n",
      "2\n",
      "3\n"
     ]
    }
   ],
   "source": [
    "for i in range(0,4):\n",
    "    print(i)"
   ]
  },
  {
   "cell_type": "code",
   "execution_count": 28,
   "id": "b8a27a8e-b4f4-48b6-95e4-32e5e6a32627",
   "metadata": {},
   "outputs": [
    {
     "name": "stdout",
     "output_type": "stream",
     "text": [
      "20\n",
      "20\n",
      "20\n",
      "20\n",
      "20\n"
     ]
    }
   ],
   "source": [
    "arr_1 = [20, 20, 10]\n",
    "arr_2 = [2, 2, 1]\n",
    "\n",
    "for i in arr_2:\n",
    "    for j in range(0, i):\n",
    "        print(arr_1[j])"
   ]
  },
  {
   "cell_type": "code",
   "execution_count": 58,
   "id": "abe84b7e-bd1b-4896-adce-ad43732a3667",
   "metadata": {},
   "outputs": [
    {
     "name": "stdout",
     "output_type": "stream",
     "text": [
      "0\n",
      "20\n",
      "20\n",
      "1\n",
      "10\n",
      "30\n",
      "2\n",
      "10\n",
      "10\n",
      "3\n",
      "20\n",
      "30\n",
      "4\n",
      "10\n",
      "20\n",
      "5\n",
      "10\n",
      "40\n"
     ]
    }
   ],
   "source": [
    "for i in range(0,len(M1_OBJ_NUMBERS)):\n",
    "    print(i)\n",
    "    print(M1_OBJ_WIDTHS[i])\n",
    "    print(M1_OBJ_HEIGHTS[i])"
   ]
  },
  {
   "cell_type": "code",
   "execution_count": 46,
   "id": "a2dce953-e321-4ee6-9dcb-072e35626c97",
   "metadata": {},
   "outputs": [
    {
     "data": {
      "text/plain": [
       "[20, 30, 10, 30, 20, 40]"
      ]
     },
     "execution_count": 46,
     "metadata": {},
     "output_type": "execute_result"
    }
   ],
   "source": [
    "M1_OBJ_HEIGHTS"
   ]
  },
  {
   "cell_type": "code",
   "execution_count": null,
   "id": "c58cf144-ba69-4b78-8bc1-61aadad02a26",
   "metadata": {},
   "outputs": [],
   "source": []
  }
 ],
 "metadata": {
  "kernelspec": {
   "display_name": "Python 3 (ipykernel)",
   "language": "python",
   "name": "python3"
  },
  "language_info": {
   "codemirror_mode": {
    "name": "ipython",
    "version": 3
   },
   "file_extension": ".py",
   "mimetype": "text/x-python",
   "name": "python",
   "nbconvert_exporter": "python",
   "pygments_lexer": "ipython3",
   "version": "3.13.0"
  }
 },
 "nbformat": 4,
 "nbformat_minor": 5
}
